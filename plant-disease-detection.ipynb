{
 "cells": [
  {
   "cell_type": "markdown",
   "id": "57712964",
   "metadata": {
    "papermill": {
     "duration": 0.003818,
     "end_time": "2023-05-29T05:34:06.641950",
     "exception": false,
     "start_time": "2023-05-29T05:34:06.638132",
     "status": "completed"
    },
    "tags": []
   },
   "source": [
    "# Plant Disease Detection\n",
    "\n",
    "#### In this notebook , I will be building model that detect the plant diseases and provide solution according to the diseases. This model will be integrated to Flask web app for easyness. Thank You.\n",
    "\n",
    "\n",
    "[Inspired Notebook](https://www.kaggle.com/code/atharvaingle/plant-disease-classification-resnet-99-2/notebook)\n"
   ]
  },
  {
   "cell_type": "code",
   "execution_count": 1,
   "id": "9919afbc",
   "metadata": {
    "execution": {
     "iopub.execute_input": "2023-05-29T05:34:06.651509Z",
     "iopub.status.busy": "2023-05-29T05:34:06.650714Z",
     "iopub.status.idle": "2023-05-29T05:34:10.667470Z",
     "shell.execute_reply": "2023-05-29T05:34:10.666142Z"
    },
    "papermill": {
     "duration": 4.02466,
     "end_time": "2023-05-29T05:34:10.670169",
     "exception": false,
     "start_time": "2023-05-29T05:34:06.645509",
     "status": "completed"
    },
    "tags": []
   },
   "outputs": [],
   "source": [
    "#importing necessary libraries\n",
    "import os                       # for working with files\n",
    "import numpy as np              # for numerical computationss\n",
    "import pandas as pd             # for working with dataframes\n",
    "import torch                    # Pytorch module \n",
    "import matplotlib.pyplot as plt # for plotting informations on graph and images using tensors\n",
    "import torch.nn as nn           # for creating  neural networks\n",
    "from torch.utils.data import DataLoader # for dataloaders \n",
    "from PIL import Image           # for checking images\n",
    "import torch.nn.functional as F # for functions for calculating loss\n",
    "import torchvision.transforms as transforms   # for transforming images into tensors \n",
    "from torchvision.utils import make_grid       # for data checking\n",
    "from torchvision.datasets import ImageFolder  # for working with classes and images  "
   ]
  },
  {
   "cell_type": "code",
   "execution_count": 2,
   "id": "8869a66a",
   "metadata": {
    "execution": {
     "iopub.execute_input": "2023-05-29T05:34:10.678831Z",
     "iopub.status.busy": "2023-05-29T05:34:10.678152Z",
     "iopub.status.idle": "2023-05-29T05:34:10.697387Z",
     "shell.execute_reply": "2023-05-29T05:34:10.696157Z"
    },
    "papermill": {
     "duration": 0.026591,
     "end_time": "2023-05-29T05:34:10.700157",
     "exception": false,
     "start_time": "2023-05-29T05:34:10.673566",
     "status": "completed"
    },
    "tags": []
   },
   "outputs": [],
   "source": [
    "#reading required datasets\n",
    "data_dir = \"../input/new-plant-diseases-dataset/New Plant Diseases Dataset(Augmented)/New Plant Diseases Dataset(Augmented)\"\n",
    "train_dir = data_dir + \"/train\"\n",
    "valid_dir = data_dir + \"/valid\"\n",
    "diseases = os.listdir(train_dir)"
   ]
  },
  {
   "cell_type": "code",
   "execution_count": 3,
   "id": "9f7648c1",
   "metadata": {
    "execution": {
     "iopub.execute_input": "2023-05-29T05:34:10.708541Z",
     "iopub.status.busy": "2023-05-29T05:34:10.708127Z",
     "iopub.status.idle": "2023-05-29T05:34:10.714461Z",
     "shell.execute_reply": "2023-05-29T05:34:10.713235Z"
    },
    "papermill": {
     "duration": 0.013164,
     "end_time": "2023-05-29T05:34:10.716804",
     "exception": false,
     "start_time": "2023-05-29T05:34:10.703640",
     "status": "completed"
    },
    "tags": []
   },
   "outputs": [
    {
     "name": "stdout",
     "output_type": "stream",
     "text": [
      "['Tomato___Late_blight', 'Tomato___healthy', 'Grape___healthy', 'Orange___Haunglongbing_(Citrus_greening)', 'Soybean___healthy', 'Squash___Powdery_mildew', 'Potato___healthy', 'Corn_(maize)___Northern_Leaf_Blight', 'Tomato___Early_blight', 'Tomato___Septoria_leaf_spot', 'Corn_(maize)___Cercospora_leaf_spot Gray_leaf_spot', 'Strawberry___Leaf_scorch', 'Peach___healthy', 'Apple___Apple_scab', 'Tomato___Tomato_Yellow_Leaf_Curl_Virus', 'Tomato___Bacterial_spot', 'Apple___Black_rot', 'Blueberry___healthy', 'Cherry_(including_sour)___Powdery_mildew', 'Peach___Bacterial_spot', 'Apple___Cedar_apple_rust', 'Tomato___Target_Spot', 'Pepper,_bell___healthy', 'Grape___Leaf_blight_(Isariopsis_Leaf_Spot)', 'Potato___Late_blight', 'Tomato___Tomato_mosaic_virus', 'Strawberry___healthy', 'Apple___healthy', 'Grape___Black_rot', 'Potato___Early_blight', 'Cherry_(including_sour)___healthy', 'Corn_(maize)___Common_rust_', 'Grape___Esca_(Black_Measles)', 'Raspberry___healthy', 'Tomato___Leaf_Mold', 'Tomato___Spider_mites Two-spotted_spider_mite', 'Pepper,_bell___Bacterial_spot', 'Corn_(maize)___healthy']\n"
     ]
    }
   ],
   "source": [
    "print(diseases)"
   ]
  },
  {
   "cell_type": "code",
   "execution_count": 4,
   "id": "2f5b2078",
   "metadata": {
    "execution": {
     "iopub.execute_input": "2023-05-29T05:34:10.726716Z",
     "iopub.status.busy": "2023-05-29T05:34:10.725636Z",
     "iopub.status.idle": "2023-05-29T05:34:10.731517Z",
     "shell.execute_reply": "2023-05-29T05:34:10.730080Z"
    },
    "papermill": {
     "duration": 0.013245,
     "end_time": "2023-05-29T05:34:10.734062",
     "exception": false,
     "start_time": "2023-05-29T05:34:10.720817",
     "status": "completed"
    },
    "tags": []
   },
   "outputs": [
    {
     "name": "stdout",
     "output_type": "stream",
     "text": [
      "38\n"
     ]
    }
   ],
   "source": [
    "#total diseases\n",
    "print(len(diseases))"
   ]
  },
  {
   "cell_type": "code",
   "execution_count": 5,
   "id": "6f7a690f",
   "metadata": {
    "execution": {
     "iopub.execute_input": "2023-05-29T05:34:10.743028Z",
     "iopub.status.busy": "2023-05-29T05:34:10.742605Z",
     "iopub.status.idle": "2023-05-29T05:34:10.750110Z",
     "shell.execute_reply": "2023-05-29T05:34:10.748426Z"
    },
    "papermill": {
     "duration": 0.015171,
     "end_time": "2023-05-29T05:34:10.752753",
     "exception": false,
     "start_time": "2023-05-29T05:34:10.737582",
     "status": "completed"
    },
    "tags": []
   },
   "outputs": [],
   "source": [
    "#splitting and finding plant name form diseases and finding total unhealthy plants\n",
    "plants=[]\n",
    "noOfdiseases=0\n",
    "for disease in diseases:\n",
    "    plantname=disease.split('___')[0] \n",
    "    plants.append(plantname)\n",
    "    totaldisease=disease.split('___')[1]\n",
    "    if totaldisease!='healthy':\n",
    "        noOfdiseases+=1"
   ]
  },
  {
   "cell_type": "code",
   "execution_count": 6,
   "id": "73a4a670",
   "metadata": {
    "execution": {
     "iopub.execute_input": "2023-05-29T05:34:10.761876Z",
     "iopub.status.busy": "2023-05-29T05:34:10.761390Z",
     "iopub.status.idle": "2023-05-29T05:34:10.767175Z",
     "shell.execute_reply": "2023-05-29T05:34:10.766089Z"
    },
    "papermill": {
     "duration": 0.013159,
     "end_time": "2023-05-29T05:34:10.769525",
     "exception": false,
     "start_time": "2023-05-29T05:34:10.756366",
     "status": "completed"
    },
    "tags": []
   },
   "outputs": [],
   "source": [
    "#for finding unique plants\n",
    "plants=set(plants)"
   ]
  },
  {
   "cell_type": "code",
   "execution_count": 7,
   "id": "698bca96",
   "metadata": {
    "execution": {
     "iopub.execute_input": "2023-05-29T05:34:10.778191Z",
     "iopub.status.busy": "2023-05-29T05:34:10.777808Z",
     "iopub.status.idle": "2023-05-29T05:34:10.784161Z",
     "shell.execute_reply": "2023-05-29T05:34:10.782714Z"
    },
    "papermill": {
     "duration": 0.013467,
     "end_time": "2023-05-29T05:34:10.786530",
     "exception": false,
     "start_time": "2023-05-29T05:34:10.773063",
     "status": "completed"
    },
    "tags": []
   },
   "outputs": [
    {
     "name": "stdout",
     "output_type": "stream",
     "text": [
      "{'Tomato', 'Soybean', 'Squash', 'Orange', 'Grape', 'Potato', 'Strawberry', 'Corn_(maize)', 'Blueberry', 'Pepper,_bell', 'Cherry_(including_sour)', 'Apple', 'Raspberry', 'Peach'}\n"
     ]
    }
   ],
   "source": [
    "print(plants)"
   ]
  },
  {
   "cell_type": "code",
   "execution_count": 8,
   "id": "a7cf1957",
   "metadata": {
    "execution": {
     "iopub.execute_input": "2023-05-29T05:34:10.795377Z",
     "iopub.status.busy": "2023-05-29T05:34:10.794982Z",
     "iopub.status.idle": "2023-05-29T05:34:10.799985Z",
     "shell.execute_reply": "2023-05-29T05:34:10.799076Z"
    },
    "papermill": {
     "duration": 0.011864,
     "end_time": "2023-05-29T05:34:10.801970",
     "exception": false,
     "start_time": "2023-05-29T05:34:10.790106",
     "status": "completed"
    },
    "tags": []
   },
   "outputs": [
    {
     "name": "stdout",
     "output_type": "stream",
     "text": [
      "14\n"
     ]
    }
   ],
   "source": [
    "#total plants\n",
    "print(len(plants))"
   ]
  },
  {
   "cell_type": "code",
   "execution_count": 9,
   "id": "ce38d6ce",
   "metadata": {
    "execution": {
     "iopub.execute_input": "2023-05-29T05:34:10.810848Z",
     "iopub.status.busy": "2023-05-29T05:34:10.810433Z",
     "iopub.status.idle": "2023-05-29T05:34:10.816931Z",
     "shell.execute_reply": "2023-05-29T05:34:10.815292Z"
    },
    "papermill": {
     "duration": 0.013977,
     "end_time": "2023-05-29T05:34:10.819627",
     "exception": false,
     "start_time": "2023-05-29T05:34:10.805650",
     "status": "completed"
    },
    "tags": []
   },
   "outputs": [
    {
     "name": "stdout",
     "output_type": "stream",
     "text": [
      "26\n"
     ]
    }
   ],
   "source": [
    "#total unhealthy plants\n",
    "print(noOfdiseases)"
   ]
  },
  {
   "cell_type": "code",
   "execution_count": null,
   "id": "bedb1ca7",
   "metadata": {
    "papermill": {
     "duration": 0.004245,
     "end_time": "2023-05-29T05:34:10.827792",
     "exception": false,
     "start_time": "2023-05-29T05:34:10.823547",
     "status": "completed"
    },
    "tags": []
   },
   "outputs": [],
   "source": []
  }
 ],
 "metadata": {
  "kernelspec": {
   "display_name": "Python 3",
   "language": "python",
   "name": "python3"
  },
  "language_info": {
   "codemirror_mode": {
    "name": "ipython",
    "version": 3
   },
   "file_extension": ".py",
   "mimetype": "text/x-python",
   "name": "python",
   "nbconvert_exporter": "python",
   "pygments_lexer": "ipython3",
   "version": "3.10.10"
  },
  "papermill": {
   "default_parameters": {},
   "duration": 18.435735,
   "end_time": "2023-05-29T05:34:12.256271",
   "environment_variables": {},
   "exception": null,
   "input_path": "__notebook__.ipynb",
   "output_path": "__notebook__.ipynb",
   "parameters": {},
   "start_time": "2023-05-29T05:33:53.820536",
   "version": "2.4.0"
  }
 },
 "nbformat": 4,
 "nbformat_minor": 5
}
