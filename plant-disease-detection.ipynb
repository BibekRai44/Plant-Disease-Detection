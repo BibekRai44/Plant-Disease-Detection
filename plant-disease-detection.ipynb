{
 "cells": [
  {
   "cell_type": "code",
   "execution_count": 1,
   "id": "25fc95c3",
   "metadata": {
    "_cell_guid": "b1076dfc-b9ad-4769-8c92-a6c4dae69d19",
    "_uuid": "8f2839f25d086af736a60e9eeb907d3b93b6e0e5",
    "execution": {
     "iopub.execute_input": "2023-05-29T02:10:34.188246Z",
     "iopub.status.busy": "2023-05-29T02:10:34.187704Z",
     "iopub.status.idle": "2023-05-29T02:10:38.005823Z",
     "shell.execute_reply": "2023-05-29T02:10:38.004834Z"
    },
    "papermill": {
     "duration": 3.826735,
     "end_time": "2023-05-29T02:10:38.008411",
     "exception": false,
     "start_time": "2023-05-29T02:10:34.181676",
     "status": "completed"
    },
    "tags": []
   },
   "outputs": [],
   "source": [
    "import os                       # for working with files\n",
    "import numpy as np              # for numerical computationss\n",
    "import pandas as pd             # for working with dataframes\n",
    "import torch                    # Pytorch module \n",
    "import matplotlib.pyplot as plt # for plotting informations on graph and images using tensors\n",
    "import torch.nn as nn           # for creating  neural networks\n",
    "from torch.utils.data import DataLoader # for dataloaders \n",
    "from PIL import Image           # for checking images\n",
    "import torch.nn.functional as F # for functions for calculating loss\n",
    "import torchvision.transforms as transforms   # for transforming images into tensors \n",
    "from torchvision.utils import make_grid       # for data checking\n",
    "from torchvision.datasets import ImageFolder  # for working with classes and images  "
   ]
  },
  {
   "cell_type": "code",
   "execution_count": 2,
   "id": "95c55115",
   "metadata": {
    "execution": {
     "iopub.execute_input": "2023-05-29T02:10:38.015007Z",
     "iopub.status.busy": "2023-05-29T02:10:38.013838Z",
     "iopub.status.idle": "2023-05-29T02:10:38.029246Z",
     "shell.execute_reply": "2023-05-29T02:10:38.028182Z"
    },
    "papermill": {
     "duration": 0.021207,
     "end_time": "2023-05-29T02:10:38.031954",
     "exception": false,
     "start_time": "2023-05-29T02:10:38.010747",
     "status": "completed"
    },
    "tags": []
   },
   "outputs": [],
   "source": [
    "data_dir = \"../input/new-plant-diseases-dataset/New Plant Diseases Dataset(Augmented)/New Plant Diseases Dataset(Augmented)\"\n",
    "train_dir = data_dir + \"/train\"\n",
    "valid_dir = data_dir + \"/valid\"\n",
    "diseases = os.listdir(train_dir)"
   ]
  },
  {
   "cell_type": "code",
   "execution_count": null,
   "id": "95c5bc14",
   "metadata": {
    "papermill": {
     "duration": 0.001685,
     "end_time": "2023-05-29T02:10:38.035736",
     "exception": false,
     "start_time": "2023-05-29T02:10:38.034051",
     "status": "completed"
    },
    "tags": []
   },
   "outputs": [],
   "source": []
  }
 ],
 "metadata": {
  "kernelspec": {
   "display_name": "Python 3",
   "language": "python",
   "name": "python3"
  },
  "language_info": {
   "codemirror_mode": {
    "name": "ipython",
    "version": 3
   },
   "file_extension": ".py",
   "mimetype": "text/x-python",
   "name": "python",
   "nbconvert_exporter": "python",
   "pygments_lexer": "ipython3",
   "version": "3.10.10"
  },
  "papermill": {
   "default_parameters": {},
   "duration": 16.837323,
   "end_time": "2023-05-29T02:10:39.360271",
   "environment_variables": {},
   "exception": null,
   "input_path": "__notebook__.ipynb",
   "output_path": "__notebook__.ipynb",
   "parameters": {},
   "start_time": "2023-05-29T02:10:22.522948",
   "version": "2.4.0"
  }
 },
 "nbformat": 4,
 "nbformat_minor": 5
}
